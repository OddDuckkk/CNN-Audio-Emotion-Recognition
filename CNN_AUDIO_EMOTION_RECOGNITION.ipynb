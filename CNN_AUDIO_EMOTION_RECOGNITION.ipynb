{
  "cells": [
    {
      "cell_type": "markdown",
      "metadata": {
        "id": "XdolZVwl2SY_"
      },
      "source": [
        "#AUDIO EMOTION CLASSIFICATION\n",
        "<p>Kelompok A1</p>\n",
        "Ni Kadek Dwi Marhaeni\t\t\t(2208561008)</p>\n",
        "Ida Ayu Made Putri Santiani\t\t\t(2208561020)</p>\n",
        "Ni Komang Ayu Juliana\t\t\t(2208561046)</p>\n",
        "Gede Brandon Abelio Ogaden\t\t(2208561064)</p>\n",
        "Ida Bagus Gede Basudewa Weda\t\t(2208561077)</p>\n",
        "</p>"
      ]
    },
    {
      "cell_type": "markdown",
      "source": [],
      "metadata": {
        "id": "ZBjocQ5J4UCv"
      }
    },
    {
      "cell_type": "markdown",
      "metadata": {
        "id": "xYoATy_A2qS_"
      },
      "source": [
        "##IMPORTS"
      ]
    },
    {
      "cell_type": "code",
      "execution_count": null,
      "metadata": {
        "colab": {
          "base_uri": "https://localhost:8080/"
        },
        "id": "CYCiXG00K5g5",
        "outputId": "d86b4a83-f01f-459e-f1eb-c2a5b7d72ce5"
      },
      "outputs": [
        {
          "output_type": "stream",
          "name": "stdout",
          "text": [
            "Collecting scikeras\n",
            "  Downloading scikeras-0.13.0-py3-none-any.whl (26 kB)\n",
            "Collecting keras>=3.2.0 (from scikeras)\n",
            "  Downloading keras-3.4.1-py3-none-any.whl (1.1 MB)\n",
            "\u001b[2K     \u001b[90m━━━━━━━━━━━━━━━━━━━━━━━━━━━━━━━━━━━━━━━━\u001b[0m \u001b[32m1.1/1.1 MB\u001b[0m \u001b[31m8.2 MB/s\u001b[0m eta \u001b[36m0:00:00\u001b[0m\n",
            "\u001b[?25hCollecting scikit-learn>=1.4.2 (from scikeras)\n",
            "  Downloading scikit_learn-1.5.1-cp310-cp310-manylinux_2_17_x86_64.manylinux2014_x86_64.whl (13.4 MB)\n",
            "\u001b[2K     \u001b[90m━━━━━━━━━━━━━━━━━━━━━━━━━━━━━━━━━━━━━━━━\u001b[0m \u001b[32m13.4/13.4 MB\u001b[0m \u001b[31m14.9 MB/s\u001b[0m eta \u001b[36m0:00:00\u001b[0m\n",
            "\u001b[?25hRequirement already satisfied: absl-py in /usr/local/lib/python3.10/dist-packages (from keras>=3.2.0->scikeras) (1.4.0)\n",
            "Requirement already satisfied: numpy in /usr/local/lib/python3.10/dist-packages (from keras>=3.2.0->scikeras) (1.25.2)\n",
            "Requirement already satisfied: rich in /usr/local/lib/python3.10/dist-packages (from keras>=3.2.0->scikeras) (13.7.1)\n",
            "Collecting namex (from keras>=3.2.0->scikeras)\n",
            "  Downloading namex-0.0.8-py3-none-any.whl (5.8 kB)\n",
            "Requirement already satisfied: h5py in /usr/local/lib/python3.10/dist-packages (from keras>=3.2.0->scikeras) (3.9.0)\n",
            "Collecting optree (from keras>=3.2.0->scikeras)\n",
            "  Downloading optree-0.12.1-cp310-cp310-manylinux_2_17_x86_64.manylinux2014_x86_64.whl (347 kB)\n",
            "\u001b[2K     \u001b[90m━━━━━━━━━━━━━━━━━━━━━━━━━━━━━━━━━━━━━━━━\u001b[0m \u001b[32m347.7/347.7 kB\u001b[0m \u001b[31m28.0 MB/s\u001b[0m eta \u001b[36m0:00:00\u001b[0m\n",
            "\u001b[?25hRequirement already satisfied: ml-dtypes in /usr/local/lib/python3.10/dist-packages (from keras>=3.2.0->scikeras) (0.2.0)\n",
            "Requirement already satisfied: packaging in /usr/local/lib/python3.10/dist-packages (from keras>=3.2.0->scikeras) (24.1)\n",
            "Requirement already satisfied: scipy>=1.6.0 in /usr/local/lib/python3.10/dist-packages (from scikit-learn>=1.4.2->scikeras) (1.11.4)\n",
            "Requirement already satisfied: joblib>=1.2.0 in /usr/local/lib/python3.10/dist-packages (from scikit-learn>=1.4.2->scikeras) (1.4.2)\n",
            "Requirement already satisfied: threadpoolctl>=3.1.0 in /usr/local/lib/python3.10/dist-packages (from scikit-learn>=1.4.2->scikeras) (3.5.0)\n",
            "Requirement already satisfied: typing-extensions>=4.5.0 in /usr/local/lib/python3.10/dist-packages (from optree->keras>=3.2.0->scikeras) (4.12.2)\n",
            "Requirement already satisfied: markdown-it-py>=2.2.0 in /usr/local/lib/python3.10/dist-packages (from rich->keras>=3.2.0->scikeras) (3.0.0)\n",
            "Requirement already satisfied: pygments<3.0.0,>=2.13.0 in /usr/local/lib/python3.10/dist-packages (from rich->keras>=3.2.0->scikeras) (2.16.1)\n",
            "Requirement already satisfied: mdurl~=0.1 in /usr/local/lib/python3.10/dist-packages (from markdown-it-py>=2.2.0->rich->keras>=3.2.0->scikeras) (0.1.2)\n",
            "Installing collected packages: namex, optree, scikit-learn, keras, scikeras\n",
            "  Attempting uninstall: scikit-learn\n",
            "    Found existing installation: scikit-learn 1.2.2\n",
            "    Uninstalling scikit-learn-1.2.2:\n",
            "      Successfully uninstalled scikit-learn-1.2.2\n",
            "  Attempting uninstall: keras\n",
            "    Found existing installation: keras 2.15.0\n",
            "    Uninstalling keras-2.15.0:\n",
            "      Successfully uninstalled keras-2.15.0\n",
            "\u001b[31mERROR: pip's dependency resolver does not currently take into account all the packages that are installed. This behaviour is the source of the following dependency conflicts.\n",
            "tensorflow 2.15.0 requires keras<2.16,>=2.15.0, but you have keras 3.4.1 which is incompatible.\u001b[0m\u001b[31m\n",
            "\u001b[0mSuccessfully installed keras-3.4.1 namex-0.0.8 optree-0.12.1 scikeras-0.13.0 scikit-learn-1.5.1\n"
          ]
        }
      ],
      "source": [
        "!pip install scikeras"
      ]
    },
    {
      "cell_type": "code",
      "execution_count": null,
      "metadata": {
        "id": "nWFnSkYnGJiW",
        "colab": {
          "base_uri": "https://localhost:8080/"
        },
        "outputId": "bfdda760-0584-46ea-a987-78d5f04c5928"
      },
      "outputs": [
        {
          "output_type": "stream",
          "name": "stdout",
          "text": [
            "Mounted at /content/drive\n"
          ]
        }
      ],
      "source": [
        "from google.colab import drive\n",
        "drive.mount('/content/drive')"
      ]
    },
    {
      "cell_type": "code",
      "execution_count": null,
      "metadata": {
        "id": "2megFBT2GS4k"
      },
      "outputs": [],
      "source": [
        "import pandas as pd\n",
        "import numpy as np\n",
        "from sklearn.model_selection import train_test_split\n",
        "from sklearn.preprocessing import LabelEncoder\n",
        "import keras\n",
        "from keras.models import Sequential\n",
        "from keras.layers import Dense, Conv2D, MaxPooling2D, Flatten, Dropout\n",
        "from keras.optimizers import Adam\n",
        "from sklearn.metrics import accuracy_score, confusion_matrix, classification_report\n",
        "\n",
        "import librosa\n",
        "import os"
      ]
    },
    {
      "cell_type": "markdown",
      "metadata": {
        "id": "YGKrrPiW5kb0"
      },
      "source": [
        "##PREPROCESSING FUNCTIONS\n",
        "<p>Trimming > Padding > Noise Reduction > Audio Augmentation"
      ]
    },
    {
      "cell_type": "code",
      "execution_count": null,
      "metadata": {
        "id": "tQ_3dVrvJltZ"
      },
      "outputs": [],
      "source": [
        "def Trimming_padding(file_path, max_length=51200):\n",
        "    audio, sample_rate = librosa.load(file_path, sr=None)\n",
        "    audio, _ = librosa.effects.trim(audio)\n",
        "    if len(audio) > max_length:\n",
        "        audio = audio[:max_length]\n",
        "    else:\n",
        "        pad_width = max_length - len(audio)\n",
        "        audio = np.pad(audio, pad_width=(0, pad_width), mode='constant', constant_values=0)\n",
        "    return audio, sample_rate"
      ]
    },
    {
      "cell_type": "code",
      "execution_count": null,
      "metadata": {
        "id": "dOdAaqA7JwT7"
      },
      "outputs": [],
      "source": [
        "def augment_audio(audio, sample_rate):\n",
        "    pitch_shifted = librosa.effects.pitch_shift(audio, sr=sample_rate, n_steps=np.random.uniform(-4, 4))\n",
        "    stretched = librosa.effects.time_stretch(pitch_shifted, rate=np.random.uniform(0.8, 1.2))\n",
        "    return stretched"
      ]
    },
    {
      "cell_type": "markdown",
      "metadata": {
        "id": "AI29j4lwMCPN"
      },
      "source": [
        "##FEATURE EXTRACTION FUNCTIONS\n",
        "<p>MFCC > Chroma > Spectral Contrast > Zero-Crossing Rate"
      ]
    },
    {
      "cell_type": "code",
      "execution_count": null,
      "metadata": {
        "id": "LSxPzwy-MQVm"
      },
      "outputs": [],
      "source": [
        "def extract_mfcc(audio, sample_rate, n_mfcc=13, n_fft=2048, hop_length=512):\n",
        "    mfccs = librosa.feature.mfcc(y=audio, sr=sample_rate, n_mfcc=n_mfcc, n_fft=n_fft, hop_length=hop_length)\n",
        "    if mfccs.shape[1] > 100:\n",
        "        mfccs = mfccs[:, :100]\n",
        "    else:\n",
        "        pad_width = 100 - mfccs.shape[1]\n",
        "        mfccs = np.pad(mfccs, pad_width=((0, 0), (0, pad_width)), mode='constant', constant_values=0)\n",
        "    return mfccs"
      ]
    },
    {
      "cell_type": "code",
      "execution_count": null,
      "metadata": {
        "id": "_wSNRhiRMUhM"
      },
      "outputs": [],
      "source": [
        "def extract_additional_features(audio, sample_rate, max_frames=100):\n",
        "    chroma = librosa.feature.chroma_stft(y=audio, sr=sample_rate, n_chroma=12, n_fft=2048, hop_length=512)\n",
        "    spectral_contrast = librosa.feature.spectral_contrast(y=audio, sr=sample_rate, n_fft=2048, hop_length=512)\n",
        "    zcr = librosa.feature.zero_crossing_rate(y=audio, hop_length=512)\n",
        "\n",
        "    def pad_feature(feature, max_frames):\n",
        "        if feature.shape[1] > max_frames:\n",
        "            return feature[:, :max_frames]\n",
        "        else:\n",
        "            pad_width = max_frames - feature.shape[1]\n",
        "            return np.pad(feature, pad_width=((0, 0), (0, pad_width)), mode='constant', constant_values=0)\n",
        "\n",
        "    chroma = pad_feature(chroma, max_frames)\n",
        "    spectral_contrast = pad_feature(spectral_contrast, max_frames)\n",
        "    zcr = pad_feature(zcr, max_frames)\n",
        "\n",
        "    return chroma, spectral_contrast, zcr"
      ]
    },
    {
      "cell_type": "code",
      "execution_count": null,
      "metadata": {
        "id": "5S6FEkVL35Y-"
      },
      "outputs": [],
      "source": [
        "def process_and_extract_features(file_path, max_length=51200):\n",
        "    audio, sample_rate = Trimming_padding(file_path, max_length)\n",
        "    audio = augment_audio(audio, sample_rate)\n",
        "    mfccs = extract_mfcc(audio, sample_rate)\n",
        "    chroma, spectral_contrast, zcr = extract_additional_features(audio, sample_rate)\n",
        "    features = np.hstack([mfccs.flatten(), chroma.flatten(), spectral_contrast.flatten(), zcr.flatten()])\n",
        "    return features"
      ]
    },
    {
      "cell_type": "markdown",
      "metadata": {
        "id": "fZ6ANfGqLcZ1"
      },
      "source": [
        "##PREPROCESSING & FEATURE EXTRACTION"
      ]
    },
    {
      "cell_type": "code",
      "execution_count": null,
      "metadata": {
        "id": "gS81dcPW39Ar"
      },
      "outputs": [],
      "source": [
        "main_dir = '/content/drive/MyDrive/Data Audio/Audio_Dataset'"
      ]
    },
    {
      "cell_type": "code",
      "execution_count": null,
      "metadata": {
        "id": "Hs4yKx5439H0"
      },
      "outputs": [],
      "source": [
        "X = []\n",
        "y = []"
      ]
    },
    {
      "cell_type": "code",
      "source": [
        "for emotion_folder in os.listdir(main_dir):\n",
        "    emotion_path = os.path.join(main_dir, emotion_folder)\n",
        "    for audio_file in os.listdir(emotion_path):\n",
        "        file_path = os.path.join(emotion_path, audio_file)\n",
        "        features = process_and_extract_features(file_path)\n",
        "        X.append(features)\n",
        "        y.append(emotion_folder)"
      ],
      "metadata": {
        "id": "-hXk8kQOilW9"
      },
      "execution_count": null,
      "outputs": []
    },
    {
      "cell_type": "code",
      "source": [
        "X = np.array(X)\n",
        "y = np.array(y)"
      ],
      "metadata": {
        "id": "doLN2uPzimxE"
      },
      "execution_count": null,
      "outputs": []
    },
    {
      "cell_type": "code",
      "source": [
        "from sklearn.preprocessing import StandardScaler"
      ],
      "metadata": {
        "id": "zBH5awnmiuwQ"
      },
      "execution_count": null,
      "outputs": []
    },
    {
      "cell_type": "code",
      "source": [
        "# Normalize features\n",
        "scaler = StandardScaler()\n",
        "X_scaled = scaler.fit_transform(X)"
      ],
      "metadata": {
        "id": "NZ8PE2wciwbx"
      },
      "execution_count": null,
      "outputs": []
    },
    {
      "cell_type": "code",
      "execution_count": null,
      "metadata": {
        "id": "tcmrNB--M6jL",
        "colab": {
          "base_uri": "https://localhost:8080/"
        },
        "outputId": "5420c6ca-440a-434e-8835-b4e764b38dff"
      },
      "outputs": [
        {
          "output_type": "stream",
          "name": "stdout",
          "text": [
            "MFCC features saved to /content/drive/MyDrive/Data Audio/mfcc_features.csv\n"
          ]
        }
      ],
      "source": [
        "df = pd.DataFrame(X_scaled, columns=[f\"feature_{i}\" for i in range(X_scaled.shape[1])])\n",
        "df['label'] = y\n",
        "\n",
        "csv_file_path = '/content/drive/MyDrive/Data Audio/mfcc_features.csv'\n",
        "df.to_csv(csv_file_path, index=False)\n",
        "print(f\"MFCC features saved to {csv_file_path}\")"
      ]
    },
    {
      "cell_type": "markdown",
      "metadata": {
        "id": "onCinMuBNbQ0"
      },
      "source": [
        "##DATA PREPARATIONS FOR MODELLING"
      ]
    },
    {
      "cell_type": "code",
      "execution_count": null,
      "metadata": {
        "id": "NtzW-V5Cf53D"
      },
      "outputs": [],
      "source": [
        "from keras.utils import to_categorical"
      ]
    },
    {
      "cell_type": "code",
      "execution_count": null,
      "metadata": {
        "id": "i-lswqVIMgPJ"
      },
      "outputs": [],
      "source": [
        "# 1. Membaca dataset dengan fitur MFCC dan label emosi\n",
        "# Misalnya, Anda sudah memisahkan kolom MFCC dan kolom target emosi\n",
        "file_path = '/content/drive/MyDrive/Data Audio/mfcc_features.csv'\n",
        "df = pd.read_csv(file_path)"
      ]
    },
    {
      "cell_type": "code",
      "execution_count": null,
      "metadata": {
        "id": "04h1nDlFfH5g",
        "colab": {
          "base_uri": "https://localhost:8080/",
          "height": 256
        },
        "outputId": "32bc752c-e578-4ea6-a8d3-65be337962f5"
      },
      "outputs": [
        {
          "output_type": "execute_result",
          "data": {
            "text/plain": [
              "   feature_0  feature_1  feature_2  feature_3  feature_4  feature_5  \\\n",
              "0   0.444849   0.521748   0.433609   0.391086   0.424561   0.448515   \n",
              "1   0.213725   0.708667   1.061314   1.177190   1.055350   0.758616   \n",
              "2  -0.873099  -0.242911   0.572982   1.048286   1.118548   0.970177   \n",
              "3  -1.208506  -0.556335   0.091015   0.540104   0.722640   0.785834   \n",
              "4   0.460391   0.939544   1.179333   1.111843   1.130920   1.196747   \n",
              "\n",
              "   feature_6  feature_7  feature_8  feature_9  ...  feature_3291  \\\n",
              "0   0.450575   0.518756   0.538189   0.469108  ...      5.287182   \n",
              "1   0.609570   0.530095   0.445752   0.430375  ...      2.158176   \n",
              "2   0.754162   0.600603   0.585435   0.675381  ...      3.301106   \n",
              "3   0.901636   1.085171   1.071049   0.940563  ...     -0.502417   \n",
              "4   1.234190   1.347791   1.576091   1.753802  ...     -0.108949   \n",
              "\n",
              "   feature_3292  feature_3293  feature_3294  feature_3295  feature_3296  \\\n",
              "0      3.267992      1.829030      1.019109      1.192395      1.347191   \n",
              "1      2.770143      3.037784      2.440093      1.589766     -0.422428   \n",
              "2      3.319053      2.652290      1.749709     -0.438200     -0.422428   \n",
              "3     -0.485025     -0.470870     -0.455498     -0.438200     -0.422428   \n",
              "4     -0.204187     -0.372862     -0.455498     -0.438200     -0.422428   \n",
              "\n",
              "   feature_3297  feature_3298  feature_3299          label  \n",
              "0      1.726624      2.071980      2.107519  anger_emotion  \n",
              "1     -0.407676     -0.391983     -0.377617  anger_emotion  \n",
              "2     -0.407676     -0.391983     -0.377617  anger_emotion  \n",
              "3     -0.407676     -0.391983     -0.377617  anger_emotion  \n",
              "4     -0.407676     -0.391983     -0.377617  anger_emotion  \n",
              "\n",
              "[5 rows x 3301 columns]"
            ],
            "text/html": [
              "\n",
              "  <div id=\"df-572a01b1-4ca4-4d2a-89ef-c64efff03783\" class=\"colab-df-container\">\n",
              "    <div>\n",
              "<style scoped>\n",
              "    .dataframe tbody tr th:only-of-type {\n",
              "        vertical-align: middle;\n",
              "    }\n",
              "\n",
              "    .dataframe tbody tr th {\n",
              "        vertical-align: top;\n",
              "    }\n",
              "\n",
              "    .dataframe thead th {\n",
              "        text-align: right;\n",
              "    }\n",
              "</style>\n",
              "<table border=\"1\" class=\"dataframe\">\n",
              "  <thead>\n",
              "    <tr style=\"text-align: right;\">\n",
              "      <th></th>\n",
              "      <th>feature_0</th>\n",
              "      <th>feature_1</th>\n",
              "      <th>feature_2</th>\n",
              "      <th>feature_3</th>\n",
              "      <th>feature_4</th>\n",
              "      <th>feature_5</th>\n",
              "      <th>feature_6</th>\n",
              "      <th>feature_7</th>\n",
              "      <th>feature_8</th>\n",
              "      <th>feature_9</th>\n",
              "      <th>...</th>\n",
              "      <th>feature_3291</th>\n",
              "      <th>feature_3292</th>\n",
              "      <th>feature_3293</th>\n",
              "      <th>feature_3294</th>\n",
              "      <th>feature_3295</th>\n",
              "      <th>feature_3296</th>\n",
              "      <th>feature_3297</th>\n",
              "      <th>feature_3298</th>\n",
              "      <th>feature_3299</th>\n",
              "      <th>label</th>\n",
              "    </tr>\n",
              "  </thead>\n",
              "  <tbody>\n",
              "    <tr>\n",
              "      <th>0</th>\n",
              "      <td>0.444849</td>\n",
              "      <td>0.521748</td>\n",
              "      <td>0.433609</td>\n",
              "      <td>0.391086</td>\n",
              "      <td>0.424561</td>\n",
              "      <td>0.448515</td>\n",
              "      <td>0.450575</td>\n",
              "      <td>0.518756</td>\n",
              "      <td>0.538189</td>\n",
              "      <td>0.469108</td>\n",
              "      <td>...</td>\n",
              "      <td>5.287182</td>\n",
              "      <td>3.267992</td>\n",
              "      <td>1.829030</td>\n",
              "      <td>1.019109</td>\n",
              "      <td>1.192395</td>\n",
              "      <td>1.347191</td>\n",
              "      <td>1.726624</td>\n",
              "      <td>2.071980</td>\n",
              "      <td>2.107519</td>\n",
              "      <td>anger_emotion</td>\n",
              "    </tr>\n",
              "    <tr>\n",
              "      <th>1</th>\n",
              "      <td>0.213725</td>\n",
              "      <td>0.708667</td>\n",
              "      <td>1.061314</td>\n",
              "      <td>1.177190</td>\n",
              "      <td>1.055350</td>\n",
              "      <td>0.758616</td>\n",
              "      <td>0.609570</td>\n",
              "      <td>0.530095</td>\n",
              "      <td>0.445752</td>\n",
              "      <td>0.430375</td>\n",
              "      <td>...</td>\n",
              "      <td>2.158176</td>\n",
              "      <td>2.770143</td>\n",
              "      <td>3.037784</td>\n",
              "      <td>2.440093</td>\n",
              "      <td>1.589766</td>\n",
              "      <td>-0.422428</td>\n",
              "      <td>-0.407676</td>\n",
              "      <td>-0.391983</td>\n",
              "      <td>-0.377617</td>\n",
              "      <td>anger_emotion</td>\n",
              "    </tr>\n",
              "    <tr>\n",
              "      <th>2</th>\n",
              "      <td>-0.873099</td>\n",
              "      <td>-0.242911</td>\n",
              "      <td>0.572982</td>\n",
              "      <td>1.048286</td>\n",
              "      <td>1.118548</td>\n",
              "      <td>0.970177</td>\n",
              "      <td>0.754162</td>\n",
              "      <td>0.600603</td>\n",
              "      <td>0.585435</td>\n",
              "      <td>0.675381</td>\n",
              "      <td>...</td>\n",
              "      <td>3.301106</td>\n",
              "      <td>3.319053</td>\n",
              "      <td>2.652290</td>\n",
              "      <td>1.749709</td>\n",
              "      <td>-0.438200</td>\n",
              "      <td>-0.422428</td>\n",
              "      <td>-0.407676</td>\n",
              "      <td>-0.391983</td>\n",
              "      <td>-0.377617</td>\n",
              "      <td>anger_emotion</td>\n",
              "    </tr>\n",
              "    <tr>\n",
              "      <th>3</th>\n",
              "      <td>-1.208506</td>\n",
              "      <td>-0.556335</td>\n",
              "      <td>0.091015</td>\n",
              "      <td>0.540104</td>\n",
              "      <td>0.722640</td>\n",
              "      <td>0.785834</td>\n",
              "      <td>0.901636</td>\n",
              "      <td>1.085171</td>\n",
              "      <td>1.071049</td>\n",
              "      <td>0.940563</td>\n",
              "      <td>...</td>\n",
              "      <td>-0.502417</td>\n",
              "      <td>-0.485025</td>\n",
              "      <td>-0.470870</td>\n",
              "      <td>-0.455498</td>\n",
              "      <td>-0.438200</td>\n",
              "      <td>-0.422428</td>\n",
              "      <td>-0.407676</td>\n",
              "      <td>-0.391983</td>\n",
              "      <td>-0.377617</td>\n",
              "      <td>anger_emotion</td>\n",
              "    </tr>\n",
              "    <tr>\n",
              "      <th>4</th>\n",
              "      <td>0.460391</td>\n",
              "      <td>0.939544</td>\n",
              "      <td>1.179333</td>\n",
              "      <td>1.111843</td>\n",
              "      <td>1.130920</td>\n",
              "      <td>1.196747</td>\n",
              "      <td>1.234190</td>\n",
              "      <td>1.347791</td>\n",
              "      <td>1.576091</td>\n",
              "      <td>1.753802</td>\n",
              "      <td>...</td>\n",
              "      <td>-0.108949</td>\n",
              "      <td>-0.204187</td>\n",
              "      <td>-0.372862</td>\n",
              "      <td>-0.455498</td>\n",
              "      <td>-0.438200</td>\n",
              "      <td>-0.422428</td>\n",
              "      <td>-0.407676</td>\n",
              "      <td>-0.391983</td>\n",
              "      <td>-0.377617</td>\n",
              "      <td>anger_emotion</td>\n",
              "    </tr>\n",
              "  </tbody>\n",
              "</table>\n",
              "<p>5 rows × 3301 columns</p>\n",
              "</div>\n",
              "    <div class=\"colab-df-buttons\">\n",
              "\n",
              "  <div class=\"colab-df-container\">\n",
              "    <button class=\"colab-df-convert\" onclick=\"convertToInteractive('df-572a01b1-4ca4-4d2a-89ef-c64efff03783')\"\n",
              "            title=\"Convert this dataframe to an interactive table.\"\n",
              "            style=\"display:none;\">\n",
              "\n",
              "  <svg xmlns=\"http://www.w3.org/2000/svg\" height=\"24px\" viewBox=\"0 -960 960 960\">\n",
              "    <path d=\"M120-120v-720h720v720H120Zm60-500h600v-160H180v160Zm220 220h160v-160H400v160Zm0 220h160v-160H400v160ZM180-400h160v-160H180v160Zm440 0h160v-160H620v160ZM180-180h160v-160H180v160Zm440 0h160v-160H620v160Z\"/>\n",
              "  </svg>\n",
              "    </button>\n",
              "\n",
              "  <style>\n",
              "    .colab-df-container {\n",
              "      display:flex;\n",
              "      gap: 12px;\n",
              "    }\n",
              "\n",
              "    .colab-df-convert {\n",
              "      background-color: #E8F0FE;\n",
              "      border: none;\n",
              "      border-radius: 50%;\n",
              "      cursor: pointer;\n",
              "      display: none;\n",
              "      fill: #1967D2;\n",
              "      height: 32px;\n",
              "      padding: 0 0 0 0;\n",
              "      width: 32px;\n",
              "    }\n",
              "\n",
              "    .colab-df-convert:hover {\n",
              "      background-color: #E2EBFA;\n",
              "      box-shadow: 0px 1px 2px rgba(60, 64, 67, 0.3), 0px 1px 3px 1px rgba(60, 64, 67, 0.15);\n",
              "      fill: #174EA6;\n",
              "    }\n",
              "\n",
              "    .colab-df-buttons div {\n",
              "      margin-bottom: 4px;\n",
              "    }\n",
              "\n",
              "    [theme=dark] .colab-df-convert {\n",
              "      background-color: #3B4455;\n",
              "      fill: #D2E3FC;\n",
              "    }\n",
              "\n",
              "    [theme=dark] .colab-df-convert:hover {\n",
              "      background-color: #434B5C;\n",
              "      box-shadow: 0px 1px 3px 1px rgba(0, 0, 0, 0.15);\n",
              "      filter: drop-shadow(0px 1px 2px rgba(0, 0, 0, 0.3));\n",
              "      fill: #FFFFFF;\n",
              "    }\n",
              "  </style>\n",
              "\n",
              "    <script>\n",
              "      const buttonEl =\n",
              "        document.querySelector('#df-572a01b1-4ca4-4d2a-89ef-c64efff03783 button.colab-df-convert');\n",
              "      buttonEl.style.display =\n",
              "        google.colab.kernel.accessAllowed ? 'block' : 'none';\n",
              "\n",
              "      async function convertToInteractive(key) {\n",
              "        const element = document.querySelector('#df-572a01b1-4ca4-4d2a-89ef-c64efff03783');\n",
              "        const dataTable =\n",
              "          await google.colab.kernel.invokeFunction('convertToInteractive',\n",
              "                                                    [key], {});\n",
              "        if (!dataTable) return;\n",
              "\n",
              "        const docLinkHtml = 'Like what you see? Visit the ' +\n",
              "          '<a target=\"_blank\" href=https://colab.research.google.com/notebooks/data_table.ipynb>data table notebook</a>'\n",
              "          + ' to learn more about interactive tables.';\n",
              "        element.innerHTML = '';\n",
              "        dataTable['output_type'] = 'display_data';\n",
              "        await google.colab.output.renderOutput(dataTable, element);\n",
              "        const docLink = document.createElement('div');\n",
              "        docLink.innerHTML = docLinkHtml;\n",
              "        element.appendChild(docLink);\n",
              "      }\n",
              "    </script>\n",
              "  </div>\n",
              "\n",
              "\n",
              "<div id=\"df-a7102a9e-b8dc-4027-8d43-a1885ed76921\">\n",
              "  <button class=\"colab-df-quickchart\" onclick=\"quickchart('df-a7102a9e-b8dc-4027-8d43-a1885ed76921')\"\n",
              "            title=\"Suggest charts\"\n",
              "            style=\"display:none;\">\n",
              "\n",
              "<svg xmlns=\"http://www.w3.org/2000/svg\" height=\"24px\"viewBox=\"0 0 24 24\"\n",
              "     width=\"24px\">\n",
              "    <g>\n",
              "        <path d=\"M19 3H5c-1.1 0-2 .9-2 2v14c0 1.1.9 2 2 2h14c1.1 0 2-.9 2-2V5c0-1.1-.9-2-2-2zM9 17H7v-7h2v7zm4 0h-2V7h2v10zm4 0h-2v-4h2v4z\"/>\n",
              "    </g>\n",
              "</svg>\n",
              "  </button>\n",
              "\n",
              "<style>\n",
              "  .colab-df-quickchart {\n",
              "      --bg-color: #E8F0FE;\n",
              "      --fill-color: #1967D2;\n",
              "      --hover-bg-color: #E2EBFA;\n",
              "      --hover-fill-color: #174EA6;\n",
              "      --disabled-fill-color: #AAA;\n",
              "      --disabled-bg-color: #DDD;\n",
              "  }\n",
              "\n",
              "  [theme=dark] .colab-df-quickchart {\n",
              "      --bg-color: #3B4455;\n",
              "      --fill-color: #D2E3FC;\n",
              "      --hover-bg-color: #434B5C;\n",
              "      --hover-fill-color: #FFFFFF;\n",
              "      --disabled-bg-color: #3B4455;\n",
              "      --disabled-fill-color: #666;\n",
              "  }\n",
              "\n",
              "  .colab-df-quickchart {\n",
              "    background-color: var(--bg-color);\n",
              "    border: none;\n",
              "    border-radius: 50%;\n",
              "    cursor: pointer;\n",
              "    display: none;\n",
              "    fill: var(--fill-color);\n",
              "    height: 32px;\n",
              "    padding: 0;\n",
              "    width: 32px;\n",
              "  }\n",
              "\n",
              "  .colab-df-quickchart:hover {\n",
              "    background-color: var(--hover-bg-color);\n",
              "    box-shadow: 0 1px 2px rgba(60, 64, 67, 0.3), 0 1px 3px 1px rgba(60, 64, 67, 0.15);\n",
              "    fill: var(--button-hover-fill-color);\n",
              "  }\n",
              "\n",
              "  .colab-df-quickchart-complete:disabled,\n",
              "  .colab-df-quickchart-complete:disabled:hover {\n",
              "    background-color: var(--disabled-bg-color);\n",
              "    fill: var(--disabled-fill-color);\n",
              "    box-shadow: none;\n",
              "  }\n",
              "\n",
              "  .colab-df-spinner {\n",
              "    border: 2px solid var(--fill-color);\n",
              "    border-color: transparent;\n",
              "    border-bottom-color: var(--fill-color);\n",
              "    animation:\n",
              "      spin 1s steps(1) infinite;\n",
              "  }\n",
              "\n",
              "  @keyframes spin {\n",
              "    0% {\n",
              "      border-color: transparent;\n",
              "      border-bottom-color: var(--fill-color);\n",
              "      border-left-color: var(--fill-color);\n",
              "    }\n",
              "    20% {\n",
              "      border-color: transparent;\n",
              "      border-left-color: var(--fill-color);\n",
              "      border-top-color: var(--fill-color);\n",
              "    }\n",
              "    30% {\n",
              "      border-color: transparent;\n",
              "      border-left-color: var(--fill-color);\n",
              "      border-top-color: var(--fill-color);\n",
              "      border-right-color: var(--fill-color);\n",
              "    }\n",
              "    40% {\n",
              "      border-color: transparent;\n",
              "      border-right-color: var(--fill-color);\n",
              "      border-top-color: var(--fill-color);\n",
              "    }\n",
              "    60% {\n",
              "      border-color: transparent;\n",
              "      border-right-color: var(--fill-color);\n",
              "    }\n",
              "    80% {\n",
              "      border-color: transparent;\n",
              "      border-right-color: var(--fill-color);\n",
              "      border-bottom-color: var(--fill-color);\n",
              "    }\n",
              "    90% {\n",
              "      border-color: transparent;\n",
              "      border-bottom-color: var(--fill-color);\n",
              "    }\n",
              "  }\n",
              "</style>\n",
              "\n",
              "  <script>\n",
              "    async function quickchart(key) {\n",
              "      const quickchartButtonEl =\n",
              "        document.querySelector('#' + key + ' button');\n",
              "      quickchartButtonEl.disabled = true;  // To prevent multiple clicks.\n",
              "      quickchartButtonEl.classList.add('colab-df-spinner');\n",
              "      try {\n",
              "        const charts = await google.colab.kernel.invokeFunction(\n",
              "            'suggestCharts', [key], {});\n",
              "      } catch (error) {\n",
              "        console.error('Error during call to suggestCharts:', error);\n",
              "      }\n",
              "      quickchartButtonEl.classList.remove('colab-df-spinner');\n",
              "      quickchartButtonEl.classList.add('colab-df-quickchart-complete');\n",
              "    }\n",
              "    (() => {\n",
              "      let quickchartButtonEl =\n",
              "        document.querySelector('#df-a7102a9e-b8dc-4027-8d43-a1885ed76921 button');\n",
              "      quickchartButtonEl.style.display =\n",
              "        google.colab.kernel.accessAllowed ? 'block' : 'none';\n",
              "    })();\n",
              "  </script>\n",
              "</div>\n",
              "\n",
              "    </div>\n",
              "  </div>\n"
            ],
            "application/vnd.google.colaboratory.intrinsic+json": {
              "type": "dataframe",
              "variable_name": "df"
            }
          },
          "metadata": {},
          "execution_count": 14
        }
      ],
      "source": [
        "df.head()"
      ]
    },
    {
      "cell_type": "code",
      "execution_count": null,
      "metadata": {
        "id": "v8SbzdZBGt4f",
        "colab": {
          "base_uri": "https://localhost:8080/"
        },
        "outputId": "435f3095-992d-4ddc-9b89-ef4af4b2a324"
      },
      "outputs": [
        {
          "output_type": "execute_result",
          "data": {
            "text/plain": [
              "(9617, 3301)"
            ]
          },
          "metadata": {},
          "execution_count": 15
        }
      ],
      "source": [
        "df.shape"
      ]
    },
    {
      "cell_type": "code",
      "execution_count": null,
      "metadata": {
        "id": "Ew8UH-F7GVhS"
      },
      "outputs": [],
      "source": [
        "# Separate features (X) and labels (y) from DataFrame\n",
        "X = df.iloc[:, :-1].values  # Features (MFCC) as numpy array\n",
        "y = df['label'].values  # Labels as numpy array"
      ]
    },
    {
      "cell_type": "code",
      "execution_count": null,
      "metadata": {
        "id": "5caUzPN6Gut6"
      },
      "outputs": [],
      "source": [
        "# Encode label menjadi numerik\n",
        "label_encoder = LabelEncoder()\n",
        "y = label_encoder.fit_transform(y)"
      ]
    },
    {
      "cell_type": "code",
      "execution_count": null,
      "metadata": {
        "id": "ysWJjbqxD58F"
      },
      "outputs": [],
      "source": [
        "# Reshape X to 3D array (height, width, channels) for CNN input\n",
        "height = 20  # Assuming you extracted 20 MFCC features per frame\n",
        "width = X.shape[1] // height\n",
        "X = X.reshape(X.shape[0], height, width, 1)"
      ]
    },
    {
      "cell_type": "code",
      "execution_count": null,
      "metadata": {
        "id": "7nU61zwQD_Rx"
      },
      "outputs": [],
      "source": [
        "# Convert labels to one-hot encoded format\n",
        "num_classes = len(np.unique(y))\n",
        "y = to_categorical(y, num_classes=num_classes)"
      ]
    },
    {
      "cell_type": "code",
      "execution_count": null,
      "metadata": {
        "id": "Q-7_FnyTGvs7"
      },
      "outputs": [],
      "source": [
        "# Split dataset into training and testing sets\n",
        "X_train, X_test, y_train, y_test = train_test_split(X, y, test_size=0.2, random_state=42)"
      ]
    },
    {
      "cell_type": "code",
      "execution_count": null,
      "metadata": {
        "id": "HpVN9jkSJPnN"
      },
      "outputs": [],
      "source": [
        "# Example assuming X_train and X_test have shape (11322, 20, 165, 1)\n",
        "X_train = X_train.reshape(X_train.shape[0], 20, 165, 1)\n",
        "X_test = X_test.reshape(X_test.shape[0], 20, 165, 1)"
      ]
    },
    {
      "cell_type": "code",
      "execution_count": null,
      "metadata": {
        "id": "IOUE8VkdGyZo",
        "colab": {
          "base_uri": "https://localhost:8080/"
        },
        "outputId": "21f6e191-5cc6-4527-e0f2-846bb34f6c81"
      },
      "outputs": [
        {
          "output_type": "stream",
          "name": "stdout",
          "text": [
            "(7693, 20, 165, 1)\n",
            "(1924, 20, 165, 1)\n"
          ]
        }
      ],
      "source": [
        "print(X_train.shape)\n",
        "print(X_test.shape)"
      ]
    },
    {
      "cell_type": "code",
      "execution_count": null,
      "metadata": {
        "id": "sn1AZxyDN1GH"
      },
      "outputs": [],
      "source": [
        "import tensorflow as tf\n",
        "from scikeras.wrappers import KerasClassifier\n",
        "from sklearn.model_selection import GridSearchCV\n",
        "import pandas as pd\n",
        "import numpy as np\n",
        "from sklearn.preprocessing import LabelEncoder"
      ]
    },
    {
      "cell_type": "markdown",
      "metadata": {
        "id": "QknB2B6WwHb1"
      },
      "source": [
        "##HYPER PARAMETER TUNING\n"
      ]
    },
    {
      "cell_type": "code",
      "execution_count": null,
      "metadata": {
        "id": "nrBRGx48wJ50"
      },
      "outputs": [],
      "source": [
        "def create_model(learning_rate=0.001):\n",
        "    model = Sequential()\n",
        "    model.add(Conv2D(32, (3, 3), activation='relu', input_shape=(20, 165, 1), padding='same'))\n",
        "    model.add(MaxPooling2D((2, 2)))\n",
        "    model.add(Conv2D(64, (3, 3), activation='relu', padding='same'))\n",
        "    model.add(MaxPooling2D((2, 2)))\n",
        "    model.add(Conv2D(128, (3, 3), activation='relu', padding='same'))\n",
        "    model.add(MaxPooling2D((2, 2)))\n",
        "    model.add(Flatten())\n",
        "    model.add(Dense(128, activation='relu'))\n",
        "    model.add(Dropout(0.5))\n",
        "    model.add(Dense(num_classes, activation='softmax'))\n",
        "\n",
        "    optimizer = Adam(learning_rate=learning_rate)\n",
        "    model.compile(optimizer=optimizer, loss='categorical_crossentropy', metrics=['accuracy'])\n",
        "    return model"
      ]
    },
    {
      "cell_type": "code",
      "execution_count": null,
      "metadata": {
        "id": "lHchV3tnwM9R"
      },
      "outputs": [],
      "source": [
        "# Wrap the model with KerasClassifier\n",
        "model = KerasClassifier(model=create_model, verbose=0)"
      ]
    },
    {
      "cell_type": "code",
      "execution_count": null,
      "metadata": {
        "id": "9lfkYXstwPX6"
      },
      "outputs": [],
      "source": [
        "# Define the parameter grid\n",
        "param_grid = {\n",
        "    'model__learning_rate': [0.001, 0.01, 0.1],\n",
        "    'batch_size': [16, 32, 64],\n",
        "    'epochs': [50]\n",
        "}"
      ]
    },
    {
      "cell_type": "code",
      "execution_count": null,
      "metadata": {
        "id": "znnhHqbrwTcz",
        "colab": {
          "base_uri": "https://localhost:8080/"
        },
        "outputId": "f690e869-8ddc-43af-afd4-04d229c114ca"
      },
      "outputs": [
        {
          "output_type": "stream",
          "name": "stdout",
          "text": [
            "Fitting 3 folds for each of 9 candidates, totalling 27 fits\n"
          ]
        },
        {
          "output_type": "stream",
          "name": "stderr",
          "text": [
            "/usr/local/lib/python3.10/dist-packages/joblib/externals/loky/backend/fork_exec.py:38: RuntimeWarning: os.fork() was called. os.fork() is incompatible with multithreaded code, and JAX is multithreaded, so this will likely lead to a deadlock.\n",
            "  pid = os.fork()\n",
            "/usr/local/lib/python3.10/dist-packages/joblib/externals/loky/process_executor.py:752: UserWarning: A worker stopped while some jobs were given to the executor. This can be caused by a too short worker timeout or by a memory leak.\n",
            "  warnings.warn(\n",
            "/usr/local/lib/python3.10/dist-packages/keras/src/layers/convolutional/base_conv.py:107: UserWarning: Do not pass an `input_shape`/`input_dim` argument to a layer. When using Sequential models, prefer using an `Input(shape)` object as the first layer in the model instead.\n",
            "  super().__init__(activity_regularizer=activity_regularizer, **kwargs)\n"
          ]
        }
      ],
      "source": [
        "# Create and run the grid search\n",
        "grid = GridSearchCV(estimator=model, param_grid=param_grid, n_jobs=-1, cv=3, verbose=2)\n",
        "grid_result = grid.fit(X_train, y_train)"
      ]
    },
    {
      "cell_type": "code",
      "execution_count": null,
      "metadata": {
        "id": "iAi01NeswTlE",
        "colab": {
          "base_uri": "https://localhost:8080/"
        },
        "outputId": "b4fe3a52-17d0-409a-d464-28acbcccc4fd"
      },
      "outputs": [
        {
          "output_type": "stream",
          "name": "stdout",
          "text": [
            "Best: 0.5343828528969619 using {'batch_size': 16, 'epochs': 50, 'model__learning_rate': 0.001}\n",
            "0.5343828528969619 (0.005553118775023505) with: {'batch_size': 16, 'epochs': 50, 'model__learning_rate': 0.001}\n",
            "0.19862265445783522 (0.0029247913713422763) with: {'batch_size': 16, 'epochs': 50, 'model__learning_rate': 0.01}\n",
            "0.19511261542079616 (0.009917914581342615) with: {'batch_size': 16, 'epochs': 50, 'model__learning_rate': 0.1}\n",
            "0.5341228424965458 (0.004971620145655756) with: {'batch_size': 32, 'epochs': 50, 'model__learning_rate': 0.001}\n",
            "0.2819552275268399 (0.11973453313574225) with: {'batch_size': 32, 'epochs': 50, 'model__learning_rate': 0.01}\n",
            "0.20213238938914282 (0.0057283765120123235) with: {'batch_size': 32, 'epochs': 50, 'model__learning_rate': 0.1}\n",
            "0.5336037340129082 (0.010912445557353566) with: {'batch_size': 64, 'epochs': 50, 'model__learning_rate': 0.001}\n",
            "0.19225239964764285 (0.0062633264479186965) with: {'batch_size': 64, 'epochs': 50, 'model__learning_rate': 0.01}\n",
            "0.20200030613310305 (0.008386731238875235) with: {'batch_size': 64, 'epochs': 50, 'model__learning_rate': 0.1}\n"
          ]
        }
      ],
      "source": [
        "# Print the best parameters and results\n",
        "print(f\"Best: {grid_result.best_score_} using {grid_result.best_params_}\")\n",
        "\n",
        "means = grid_result.cv_results_['mean_test_score']\n",
        "stds = grid_result.cv_results_['std_test_score']\n",
        "params = grid_result.cv_results_['params']\n",
        "for mean, std, param in zip(means, stds, params):\n",
        "    print(f\"{mean} ({std}) with: {param}\")"
      ]
    },
    {
      "cell_type": "markdown",
      "metadata": {
        "id": "lRQcTExHCbiq"
      },
      "source": [
        "##CNN MODEL"
      ]
    },
    {
      "cell_type": "code",
      "execution_count": null,
      "metadata": {
        "id": "qV2optm-G24I",
        "colab": {
          "base_uri": "https://localhost:8080/"
        },
        "outputId": "e9679771-397e-4692-c5be-b7391c493e1f"
      },
      "outputs": [
        {
          "output_type": "stream",
          "name": "stderr",
          "text": [
            "/usr/local/lib/python3.10/dist-packages/keras/src/layers/convolutional/base_conv.py:107: UserWarning: Do not pass an `input_shape`/`input_dim` argument to a layer. When using Sequential models, prefer using an `Input(shape)` object as the first layer in the model instead.\n",
            "  super().__init__(activity_regularizer=activity_regularizer, **kwargs)\n"
          ]
        }
      ],
      "source": [
        "# Define the CNN model\n",
        "model = Sequential()\n",
        "\n",
        "# Convolutional layers\n",
        "model.add(Conv2D(32, (3, 3), activation='relu', input_shape=(20, 165, 1), padding='same'))\n",
        "model.add(MaxPooling2D((2, 2)))\n",
        "model.add(Conv2D(64, (3, 3), activation='relu', padding='same'))\n",
        "model.add(MaxPooling2D((2, 2)))\n",
        "model.add(Conv2D(128, (3, 3), activation='relu', padding='same'))\n",
        "model.add(MaxPooling2D((2, 2)))\n",
        "\n",
        "# Flatten layer to transition from convolution to fully connected layers\n",
        "model.add(Flatten())"
      ]
    },
    {
      "cell_type": "code",
      "execution_count": null,
      "metadata": {
        "id": "YGIQEgdrG5dO"
      },
      "outputs": [],
      "source": [
        "# Dense (fully connected) layers\n",
        "model.add(Dense(128, activation='relu'))\n",
        "model.add(Dropout(0.5))  # Dropout layer for regularization\n",
        "model.add(Dense(128, activation='relu'))\n",
        "model.add(Dropout(0.5))  # Dropout layer for regularization\n",
        "model.add(Dense(num_classes, activation='softmax'))  # Output layer for classification"
      ]
    },
    {
      "cell_type": "code",
      "execution_count": null,
      "metadata": {
        "id": "b3kOR-9KG9ZZ"
      },
      "outputs": [],
      "source": [
        "# Compile the model\n",
        "optimizer = Adam(learning_rate=0.001)\n",
        "model.compile(optimizer=optimizer, loss='categorical_crossentropy', metrics=['accuracy'])"
      ]
    },
    {
      "cell_type": "code",
      "execution_count": null,
      "metadata": {
        "id": "-zGUGHqhHCvA",
        "colab": {
          "base_uri": "https://localhost:8080/",
          "height": 544
        },
        "outputId": "0014f6cf-db23-4aa0-89a2-ad5d7e95a0f3"
      },
      "outputs": [
        {
          "output_type": "display_data",
          "data": {
            "text/plain": [
              "\u001b[1mModel: \"sequential\"\u001b[0m\n"
            ],
            "text/html": [
              "<pre style=\"white-space:pre;overflow-x:auto;line-height:normal;font-family:Menlo,'DejaVu Sans Mono',consolas,'Courier New',monospace\"><span style=\"font-weight: bold\">Model: \"sequential\"</span>\n",
              "</pre>\n"
            ]
          },
          "metadata": {}
        },
        {
          "output_type": "display_data",
          "data": {
            "text/plain": [
              "┏━━━━━━━━━━━━━━━━━━━━━━━━━━━━━━━━━━━━━━┳━━━━━━━━━━━━━━━━━━━━━━━━━━━━━┳━━━━━━━━━━━━━━━━━┓\n",
              "┃\u001b[1m \u001b[0m\u001b[1mLayer (type)                        \u001b[0m\u001b[1m \u001b[0m┃\u001b[1m \u001b[0m\u001b[1mOutput Shape               \u001b[0m\u001b[1m \u001b[0m┃\u001b[1m \u001b[0m\u001b[1m        Param #\u001b[0m\u001b[1m \u001b[0m┃\n",
              "┡━━━━━━━━━━━━━━━━━━━━━━━━━━━━━━━━━━━━━━╇━━━━━━━━━━━━━━━━━━━━━━━━━━━━━╇━━━━━━━━━━━━━━━━━┩\n",
              "│ conv2d (\u001b[38;5;33mConv2D\u001b[0m)                      │ (\u001b[38;5;45mNone\u001b[0m, \u001b[38;5;34m20\u001b[0m, \u001b[38;5;34m165\u001b[0m, \u001b[38;5;34m32\u001b[0m)         │             \u001b[38;5;34m320\u001b[0m │\n",
              "├──────────────────────────────────────┼─────────────────────────────┼─────────────────┤\n",
              "│ max_pooling2d (\u001b[38;5;33mMaxPooling2D\u001b[0m)         │ (\u001b[38;5;45mNone\u001b[0m, \u001b[38;5;34m10\u001b[0m, \u001b[38;5;34m82\u001b[0m, \u001b[38;5;34m32\u001b[0m)          │               \u001b[38;5;34m0\u001b[0m │\n",
              "├──────────────────────────────────────┼─────────────────────────────┼─────────────────┤\n",
              "│ conv2d_1 (\u001b[38;5;33mConv2D\u001b[0m)                    │ (\u001b[38;5;45mNone\u001b[0m, \u001b[38;5;34m10\u001b[0m, \u001b[38;5;34m82\u001b[0m, \u001b[38;5;34m64\u001b[0m)          │          \u001b[38;5;34m18,496\u001b[0m │\n",
              "├──────────────────────────────────────┼─────────────────────────────┼─────────────────┤\n",
              "│ max_pooling2d_1 (\u001b[38;5;33mMaxPooling2D\u001b[0m)       │ (\u001b[38;5;45mNone\u001b[0m, \u001b[38;5;34m5\u001b[0m, \u001b[38;5;34m41\u001b[0m, \u001b[38;5;34m64\u001b[0m)           │               \u001b[38;5;34m0\u001b[0m │\n",
              "├──────────────────────────────────────┼─────────────────────────────┼─────────────────┤\n",
              "│ conv2d_2 (\u001b[38;5;33mConv2D\u001b[0m)                    │ (\u001b[38;5;45mNone\u001b[0m, \u001b[38;5;34m5\u001b[0m, \u001b[38;5;34m41\u001b[0m, \u001b[38;5;34m128\u001b[0m)          │          \u001b[38;5;34m73,856\u001b[0m │\n",
              "├──────────────────────────────────────┼─────────────────────────────┼─────────────────┤\n",
              "│ max_pooling2d_2 (\u001b[38;5;33mMaxPooling2D\u001b[0m)       │ (\u001b[38;5;45mNone\u001b[0m, \u001b[38;5;34m2\u001b[0m, \u001b[38;5;34m20\u001b[0m, \u001b[38;5;34m128\u001b[0m)          │               \u001b[38;5;34m0\u001b[0m │\n",
              "├──────────────────────────────────────┼─────────────────────────────┼─────────────────┤\n",
              "│ flatten (\u001b[38;5;33mFlatten\u001b[0m)                    │ (\u001b[38;5;45mNone\u001b[0m, \u001b[38;5;34m5120\u001b[0m)                │               \u001b[38;5;34m0\u001b[0m │\n",
              "├──────────────────────────────────────┼─────────────────────────────┼─────────────────┤\n",
              "│ dense (\u001b[38;5;33mDense\u001b[0m)                        │ (\u001b[38;5;45mNone\u001b[0m, \u001b[38;5;34m128\u001b[0m)                 │         \u001b[38;5;34m655,488\u001b[0m │\n",
              "├──────────────────────────────────────┼─────────────────────────────┼─────────────────┤\n",
              "│ dropout (\u001b[38;5;33mDropout\u001b[0m)                    │ (\u001b[38;5;45mNone\u001b[0m, \u001b[38;5;34m128\u001b[0m)                 │               \u001b[38;5;34m0\u001b[0m │\n",
              "├──────────────────────────────────────┼─────────────────────────────┼─────────────────┤\n",
              "│ dense_1 (\u001b[38;5;33mDense\u001b[0m)                      │ (\u001b[38;5;45mNone\u001b[0m, \u001b[38;5;34m128\u001b[0m)                 │          \u001b[38;5;34m16,512\u001b[0m │\n",
              "├──────────────────────────────────────┼─────────────────────────────┼─────────────────┤\n",
              "│ dropout_1 (\u001b[38;5;33mDropout\u001b[0m)                  │ (\u001b[38;5;45mNone\u001b[0m, \u001b[38;5;34m128\u001b[0m)                 │               \u001b[38;5;34m0\u001b[0m │\n",
              "├──────────────────────────────────────┼─────────────────────────────┼─────────────────┤\n",
              "│ dense_2 (\u001b[38;5;33mDense\u001b[0m)                      │ (\u001b[38;5;45mNone\u001b[0m, \u001b[38;5;34m5\u001b[0m)                   │             \u001b[38;5;34m645\u001b[0m │\n",
              "└──────────────────────────────────────┴─────────────────────────────┴─────────────────┘\n"
            ],
            "text/html": [
              "<pre style=\"white-space:pre;overflow-x:auto;line-height:normal;font-family:Menlo,'DejaVu Sans Mono',consolas,'Courier New',monospace\">┏━━━━━━━━━━━━━━━━━━━━━━━━━━━━━━━━━━━━━━┳━━━━━━━━━━━━━━━━━━━━━━━━━━━━━┳━━━━━━━━━━━━━━━━━┓\n",
              "┃<span style=\"font-weight: bold\"> Layer (type)                         </span>┃<span style=\"font-weight: bold\"> Output Shape                </span>┃<span style=\"font-weight: bold\">         Param # </span>┃\n",
              "┡━━━━━━━━━━━━━━━━━━━━━━━━━━━━━━━━━━━━━━╇━━━━━━━━━━━━━━━━━━━━━━━━━━━━━╇━━━━━━━━━━━━━━━━━┩\n",
              "│ conv2d (<span style=\"color: #0087ff; text-decoration-color: #0087ff\">Conv2D</span>)                      │ (<span style=\"color: #00d7ff; text-decoration-color: #00d7ff\">None</span>, <span style=\"color: #00af00; text-decoration-color: #00af00\">20</span>, <span style=\"color: #00af00; text-decoration-color: #00af00\">165</span>, <span style=\"color: #00af00; text-decoration-color: #00af00\">32</span>)         │             <span style=\"color: #00af00; text-decoration-color: #00af00\">320</span> │\n",
              "├──────────────────────────────────────┼─────────────────────────────┼─────────────────┤\n",
              "│ max_pooling2d (<span style=\"color: #0087ff; text-decoration-color: #0087ff\">MaxPooling2D</span>)         │ (<span style=\"color: #00d7ff; text-decoration-color: #00d7ff\">None</span>, <span style=\"color: #00af00; text-decoration-color: #00af00\">10</span>, <span style=\"color: #00af00; text-decoration-color: #00af00\">82</span>, <span style=\"color: #00af00; text-decoration-color: #00af00\">32</span>)          │               <span style=\"color: #00af00; text-decoration-color: #00af00\">0</span> │\n",
              "├──────────────────────────────────────┼─────────────────────────────┼─────────────────┤\n",
              "│ conv2d_1 (<span style=\"color: #0087ff; text-decoration-color: #0087ff\">Conv2D</span>)                    │ (<span style=\"color: #00d7ff; text-decoration-color: #00d7ff\">None</span>, <span style=\"color: #00af00; text-decoration-color: #00af00\">10</span>, <span style=\"color: #00af00; text-decoration-color: #00af00\">82</span>, <span style=\"color: #00af00; text-decoration-color: #00af00\">64</span>)          │          <span style=\"color: #00af00; text-decoration-color: #00af00\">18,496</span> │\n",
              "├──────────────────────────────────────┼─────────────────────────────┼─────────────────┤\n",
              "│ max_pooling2d_1 (<span style=\"color: #0087ff; text-decoration-color: #0087ff\">MaxPooling2D</span>)       │ (<span style=\"color: #00d7ff; text-decoration-color: #00d7ff\">None</span>, <span style=\"color: #00af00; text-decoration-color: #00af00\">5</span>, <span style=\"color: #00af00; text-decoration-color: #00af00\">41</span>, <span style=\"color: #00af00; text-decoration-color: #00af00\">64</span>)           │               <span style=\"color: #00af00; text-decoration-color: #00af00\">0</span> │\n",
              "├──────────────────────────────────────┼─────────────────────────────┼─────────────────┤\n",
              "│ conv2d_2 (<span style=\"color: #0087ff; text-decoration-color: #0087ff\">Conv2D</span>)                    │ (<span style=\"color: #00d7ff; text-decoration-color: #00d7ff\">None</span>, <span style=\"color: #00af00; text-decoration-color: #00af00\">5</span>, <span style=\"color: #00af00; text-decoration-color: #00af00\">41</span>, <span style=\"color: #00af00; text-decoration-color: #00af00\">128</span>)          │          <span style=\"color: #00af00; text-decoration-color: #00af00\">73,856</span> │\n",
              "├──────────────────────────────────────┼─────────────────────────────┼─────────────────┤\n",
              "│ max_pooling2d_2 (<span style=\"color: #0087ff; text-decoration-color: #0087ff\">MaxPooling2D</span>)       │ (<span style=\"color: #00d7ff; text-decoration-color: #00d7ff\">None</span>, <span style=\"color: #00af00; text-decoration-color: #00af00\">2</span>, <span style=\"color: #00af00; text-decoration-color: #00af00\">20</span>, <span style=\"color: #00af00; text-decoration-color: #00af00\">128</span>)          │               <span style=\"color: #00af00; text-decoration-color: #00af00\">0</span> │\n",
              "├──────────────────────────────────────┼─────────────────────────────┼─────────────────┤\n",
              "│ flatten (<span style=\"color: #0087ff; text-decoration-color: #0087ff\">Flatten</span>)                    │ (<span style=\"color: #00d7ff; text-decoration-color: #00d7ff\">None</span>, <span style=\"color: #00af00; text-decoration-color: #00af00\">5120</span>)                │               <span style=\"color: #00af00; text-decoration-color: #00af00\">0</span> │\n",
              "├──────────────────────────────────────┼─────────────────────────────┼─────────────────┤\n",
              "│ dense (<span style=\"color: #0087ff; text-decoration-color: #0087ff\">Dense</span>)                        │ (<span style=\"color: #00d7ff; text-decoration-color: #00d7ff\">None</span>, <span style=\"color: #00af00; text-decoration-color: #00af00\">128</span>)                 │         <span style=\"color: #00af00; text-decoration-color: #00af00\">655,488</span> │\n",
              "├──────────────────────────────────────┼─────────────────────────────┼─────────────────┤\n",
              "│ dropout (<span style=\"color: #0087ff; text-decoration-color: #0087ff\">Dropout</span>)                    │ (<span style=\"color: #00d7ff; text-decoration-color: #00d7ff\">None</span>, <span style=\"color: #00af00; text-decoration-color: #00af00\">128</span>)                 │               <span style=\"color: #00af00; text-decoration-color: #00af00\">0</span> │\n",
              "├──────────────────────────────────────┼─────────────────────────────┼─────────────────┤\n",
              "│ dense_1 (<span style=\"color: #0087ff; text-decoration-color: #0087ff\">Dense</span>)                      │ (<span style=\"color: #00d7ff; text-decoration-color: #00d7ff\">None</span>, <span style=\"color: #00af00; text-decoration-color: #00af00\">128</span>)                 │          <span style=\"color: #00af00; text-decoration-color: #00af00\">16,512</span> │\n",
              "├──────────────────────────────────────┼─────────────────────────────┼─────────────────┤\n",
              "│ dropout_1 (<span style=\"color: #0087ff; text-decoration-color: #0087ff\">Dropout</span>)                  │ (<span style=\"color: #00d7ff; text-decoration-color: #00d7ff\">None</span>, <span style=\"color: #00af00; text-decoration-color: #00af00\">128</span>)                 │               <span style=\"color: #00af00; text-decoration-color: #00af00\">0</span> │\n",
              "├──────────────────────────────────────┼─────────────────────────────┼─────────────────┤\n",
              "│ dense_2 (<span style=\"color: #0087ff; text-decoration-color: #0087ff\">Dense</span>)                      │ (<span style=\"color: #00d7ff; text-decoration-color: #00d7ff\">None</span>, <span style=\"color: #00af00; text-decoration-color: #00af00\">5</span>)                   │             <span style=\"color: #00af00; text-decoration-color: #00af00\">645</span> │\n",
              "└──────────────────────────────────────┴─────────────────────────────┴─────────────────┘\n",
              "</pre>\n"
            ]
          },
          "metadata": {}
        },
        {
          "output_type": "display_data",
          "data": {
            "text/plain": [
              "\u001b[1m Total params: \u001b[0m\u001b[38;5;34m765,317\u001b[0m (2.92 MB)\n"
            ],
            "text/html": [
              "<pre style=\"white-space:pre;overflow-x:auto;line-height:normal;font-family:Menlo,'DejaVu Sans Mono',consolas,'Courier New',monospace\"><span style=\"font-weight: bold\"> Total params: </span><span style=\"color: #00af00; text-decoration-color: #00af00\">765,317</span> (2.92 MB)\n",
              "</pre>\n"
            ]
          },
          "metadata": {}
        },
        {
          "output_type": "display_data",
          "data": {
            "text/plain": [
              "\u001b[1m Trainable params: \u001b[0m\u001b[38;5;34m765,317\u001b[0m (2.92 MB)\n"
            ],
            "text/html": [
              "<pre style=\"white-space:pre;overflow-x:auto;line-height:normal;font-family:Menlo,'DejaVu Sans Mono',consolas,'Courier New',monospace\"><span style=\"font-weight: bold\"> Trainable params: </span><span style=\"color: #00af00; text-decoration-color: #00af00\">765,317</span> (2.92 MB)\n",
              "</pre>\n"
            ]
          },
          "metadata": {}
        },
        {
          "output_type": "display_data",
          "data": {
            "text/plain": [
              "\u001b[1m Non-trainable params: \u001b[0m\u001b[38;5;34m0\u001b[0m (0.00 B)\n"
            ],
            "text/html": [
              "<pre style=\"white-space:pre;overflow-x:auto;line-height:normal;font-family:Menlo,'DejaVu Sans Mono',consolas,'Courier New',monospace\"><span style=\"font-weight: bold\"> Non-trainable params: </span><span style=\"color: #00af00; text-decoration-color: #00af00\">0</span> (0.00 B)\n",
              "</pre>\n"
            ]
          },
          "metadata": {}
        }
      ],
      "source": [
        "# Print model summary\n",
        "model.summary()"
      ]
    },
    {
      "cell_type": "code",
      "execution_count": null,
      "metadata": {
        "id": "fWHTucaTHGCJ",
        "colab": {
          "base_uri": "https://localhost:8080/"
        },
        "outputId": "b37aca04-9c85-4b5e-9be6-5d5907581106"
      },
      "outputs": [
        {
          "output_type": "stream",
          "name": "stdout",
          "text": [
            "Epoch 1/50\n",
            "\u001b[1m481/481\u001b[0m \u001b[32m━━━━━━━━━━━━━━━━━━━━\u001b[0m\u001b[37m\u001b[0m \u001b[1m62s\u001b[0m 125ms/step - accuracy: 0.2350 - loss: 1.6021 - val_accuracy: 0.4262 - val_loss: 1.3332\n",
            "Epoch 2/50\n",
            "\u001b[1m481/481\u001b[0m \u001b[32m━━━━━━━━━━━━━━━━━━━━\u001b[0m\u001b[37m\u001b[0m \u001b[1m80s\u001b[0m 121ms/step - accuracy: 0.4036 - loss: 1.3644 - val_accuracy: 0.5026 - val_loss: 1.1933\n",
            "Epoch 3/50\n",
            "\u001b[1m481/481\u001b[0m \u001b[32m━━━━━━━━━━━━━━━━━━━━\u001b[0m\u001b[37m\u001b[0m \u001b[1m59s\u001b[0m 122ms/step - accuracy: 0.4654 - loss: 1.2513 - val_accuracy: 0.5322 - val_loss: 1.1228\n",
            "Epoch 4/50\n",
            "\u001b[1m481/481\u001b[0m \u001b[32m━━━━━━━━━━━━━━━━━━━━\u001b[0m\u001b[37m\u001b[0m \u001b[1m83s\u001b[0m 125ms/step - accuracy: 0.5059 - loss: 1.1796 - val_accuracy: 0.5385 - val_loss: 1.0696\n",
            "Epoch 5/50\n",
            "\u001b[1m481/481\u001b[0m \u001b[32m━━━━━━━━━━━━━━━━━━━━\u001b[0m\u001b[37m\u001b[0m \u001b[1m81s\u001b[0m 122ms/step - accuracy: 0.5194 - loss: 1.1407 - val_accuracy: 0.5327 - val_loss: 1.1435\n",
            "Epoch 6/50\n",
            "\u001b[1m481/481\u001b[0m \u001b[32m━━━━━━━━━━━━━━━━━━━━\u001b[0m\u001b[37m\u001b[0m \u001b[1m83s\u001b[0m 123ms/step - accuracy: 0.5542 - loss: 1.0858 - val_accuracy: 0.5473 - val_loss: 1.0652\n",
            "Epoch 7/50\n",
            "\u001b[1m481/481\u001b[0m \u001b[32m━━━━━━━━━━━━━━━━━━━━\u001b[0m\u001b[37m\u001b[0m \u001b[1m81s\u001b[0m 120ms/step - accuracy: 0.5691 - loss: 1.0258 - val_accuracy: 0.5639 - val_loss: 1.0487\n",
            "Epoch 8/50\n",
            "\u001b[1m481/481\u001b[0m \u001b[32m━━━━━━━━━━━━━━━━━━━━\u001b[0m\u001b[37m\u001b[0m \u001b[1m83s\u001b[0m 123ms/step - accuracy: 0.5852 - loss: 1.0017 - val_accuracy: 0.5670 - val_loss: 1.0359\n",
            "Epoch 9/50\n",
            "\u001b[1m481/481\u001b[0m \u001b[32m━━━━━━━━━━━━━━━━━━━━\u001b[0m\u001b[37m\u001b[0m \u001b[1m81s\u001b[0m 122ms/step - accuracy: 0.6089 - loss: 0.9534 - val_accuracy: 0.5629 - val_loss: 1.0580\n",
            "Epoch 10/50\n",
            "\u001b[1m481/481\u001b[0m \u001b[32m━━━━━━━━━━━━━━━━━━━━\u001b[0m\u001b[37m\u001b[0m \u001b[1m59s\u001b[0m 122ms/step - accuracy: 0.6383 - loss: 0.8921 - val_accuracy: 0.5696 - val_loss: 1.0814\n",
            "Epoch 11/50\n",
            "\u001b[1m481/481\u001b[0m \u001b[32m━━━━━━━━━━━━━━━━━━━━\u001b[0m\u001b[37m\u001b[0m \u001b[1m82s\u001b[0m 121ms/step - accuracy: 0.6495 - loss: 0.8587 - val_accuracy: 0.5686 - val_loss: 1.0639\n",
            "Epoch 12/50\n",
            "\u001b[1m481/481\u001b[0m \u001b[32m━━━━━━━━━━━━━━━━━━━━\u001b[0m\u001b[37m\u001b[0m \u001b[1m85s\u001b[0m 128ms/step - accuracy: 0.6746 - loss: 0.8104 - val_accuracy: 0.5437 - val_loss: 1.1672\n",
            "Epoch 13/50\n",
            "\u001b[1m481/481\u001b[0m \u001b[32m━━━━━━━━━━━━━━━━━━━━\u001b[0m\u001b[37m\u001b[0m \u001b[1m80s\u001b[0m 124ms/step - accuracy: 0.6755 - loss: 0.7956 - val_accuracy: 0.5743 - val_loss: 1.1099\n",
            "Epoch 14/50\n",
            "\u001b[1m481/481\u001b[0m \u001b[32m━━━━━━━━━━━━━━━━━━━━\u001b[0m\u001b[37m\u001b[0m \u001b[1m60s\u001b[0m 125ms/step - accuracy: 0.6958 - loss: 0.7395 - val_accuracy: 0.5650 - val_loss: 1.2295\n",
            "Epoch 15/50\n",
            "\u001b[1m481/481\u001b[0m \u001b[32m━━━━━━━━━━━━━━━━━━━━\u001b[0m\u001b[37m\u001b[0m \u001b[1m99s\u001b[0m 161ms/step - accuracy: 0.7221 - loss: 0.6905 - val_accuracy: 0.5644 - val_loss: 1.2139\n",
            "Epoch 16/50\n",
            "\u001b[1m481/481\u001b[0m \u001b[32m━━━━━━━━━━━━━━━━━━━━\u001b[0m\u001b[37m\u001b[0m \u001b[1m64s\u001b[0m 124ms/step - accuracy: 0.7273 - loss: 0.6655 - val_accuracy: 0.5509 - val_loss: 1.2204\n",
            "Epoch 17/50\n",
            "\u001b[1m481/481\u001b[0m \u001b[32m━━━━━━━━━━━━━━━━━━━━\u001b[0m\u001b[37m\u001b[0m \u001b[1m59s\u001b[0m 123ms/step - accuracy: 0.7216 - loss: 0.6612 - val_accuracy: 0.5499 - val_loss: 1.2546\n",
            "Epoch 18/50\n",
            "\u001b[1m481/481\u001b[0m \u001b[32m━━━━━━━━━━━━━━━━━━━━\u001b[0m\u001b[37m\u001b[0m \u001b[1m81s\u001b[0m 122ms/step - accuracy: 0.7587 - loss: 0.5950 - val_accuracy: 0.5525 - val_loss: 1.3524\n",
            "Epoch 19/50\n",
            "\u001b[1m481/481\u001b[0m \u001b[32m━━━━━━━━━━━━━━━━━━━━\u001b[0m\u001b[37m\u001b[0m \u001b[1m60s\u001b[0m 125ms/step - accuracy: 0.7768 - loss: 0.5625 - val_accuracy: 0.5546 - val_loss: 1.4472\n",
            "Epoch 20/50\n",
            "\u001b[1m481/481\u001b[0m \u001b[32m━━━━━━━━━━━━━━━━━━━━\u001b[0m\u001b[37m\u001b[0m \u001b[1m80s\u001b[0m 122ms/step - accuracy: 0.7873 - loss: 0.5399 - val_accuracy: 0.5551 - val_loss: 1.4015\n",
            "Epoch 21/50\n",
            "\u001b[1m481/481\u001b[0m \u001b[32m━━━━━━━━━━━━━━━━━━━━\u001b[0m\u001b[37m\u001b[0m \u001b[1m83s\u001b[0m 123ms/step - accuracy: 0.7951 - loss: 0.5086 - val_accuracy: 0.5463 - val_loss: 1.5682\n",
            "Epoch 22/50\n",
            "\u001b[1m481/481\u001b[0m \u001b[32m━━━━━━━━━━━━━━━━━━━━\u001b[0m\u001b[37m\u001b[0m \u001b[1m82s\u001b[0m 125ms/step - accuracy: 0.7980 - loss: 0.5006 - val_accuracy: 0.5499 - val_loss: 1.7810\n",
            "Epoch 23/50\n",
            "\u001b[1m481/481\u001b[0m \u001b[32m━━━━━━━━━━━━━━━━━━━━\u001b[0m\u001b[37m\u001b[0m \u001b[1m98s\u001b[0m 159ms/step - accuracy: 0.8133 - loss: 0.4888 - val_accuracy: 0.5702 - val_loss: 1.5697\n",
            "Epoch 24/50\n",
            "\u001b[1m481/481\u001b[0m \u001b[32m━━━━━━━━━━━━━━━━━━━━\u001b[0m\u001b[37m\u001b[0m \u001b[1m71s\u001b[0m 148ms/step - accuracy: 0.8218 - loss: 0.4364 - val_accuracy: 0.5561 - val_loss: 1.5357\n",
            "Epoch 25/50\n",
            "\u001b[1m481/481\u001b[0m \u001b[32m━━━━━━━━━━━━━━━━━━━━\u001b[0m\u001b[37m\u001b[0m \u001b[1m59s\u001b[0m 122ms/step - accuracy: 0.8211 - loss: 0.4580 - val_accuracy: 0.5587 - val_loss: 1.6607\n",
            "Epoch 26/50\n",
            "\u001b[1m481/481\u001b[0m \u001b[32m━━━━━━━━━━━━━━━━━━━━\u001b[0m\u001b[37m\u001b[0m \u001b[1m62s\u001b[0m 129ms/step - accuracy: 0.8402 - loss: 0.4296 - val_accuracy: 0.5457 - val_loss: 1.6961\n",
            "Epoch 27/50\n",
            "\u001b[1m481/481\u001b[0m \u001b[32m━━━━━━━━━━━━━━━━━━━━\u001b[0m\u001b[37m\u001b[0m \u001b[1m79s\u001b[0m 123ms/step - accuracy: 0.8405 - loss: 0.4138 - val_accuracy: 0.5437 - val_loss: 1.8384\n",
            "Epoch 28/50\n",
            "\u001b[1m481/481\u001b[0m \u001b[32m━━━━━━━━━━━━━━━━━━━━\u001b[0m\u001b[37m\u001b[0m \u001b[1m81s\u001b[0m 122ms/step - accuracy: 0.8451 - loss: 0.3896 - val_accuracy: 0.5504 - val_loss: 1.7933\n",
            "Epoch 29/50\n",
            "\u001b[1m481/481\u001b[0m \u001b[32m━━━━━━━━━━━━━━━━━━━━\u001b[0m\u001b[37m\u001b[0m \u001b[1m82s\u001b[0m 122ms/step - accuracy: 0.8479 - loss: 0.3944 - val_accuracy: 0.5390 - val_loss: 2.1549\n",
            "Epoch 30/50\n",
            "\u001b[1m481/481\u001b[0m \u001b[32m━━━━━━━━━━━━━━━━━━━━\u001b[0m\u001b[37m\u001b[0m \u001b[1m59s\u001b[0m 123ms/step - accuracy: 0.8583 - loss: 0.3545 - val_accuracy: 0.5416 - val_loss: 1.9039\n",
            "Epoch 31/50\n",
            "\u001b[1m481/481\u001b[0m \u001b[32m━━━━━━━━━━━━━━━━━━━━\u001b[0m\u001b[37m\u001b[0m \u001b[1m82s\u001b[0m 123ms/step - accuracy: 0.8559 - loss: 0.3775 - val_accuracy: 0.5546 - val_loss: 1.9967\n",
            "Epoch 32/50\n",
            "\u001b[1m481/481\u001b[0m \u001b[32m━━━━━━━━━━━━━━━━━━━━\u001b[0m\u001b[37m\u001b[0m \u001b[1m82s\u001b[0m 122ms/step - accuracy: 0.8536 - loss: 0.3669 - val_accuracy: 0.5515 - val_loss: 2.1930\n",
            "Epoch 33/50\n",
            "\u001b[1m481/481\u001b[0m \u001b[32m━━━━━━━━━━━━━━━━━━━━\u001b[0m\u001b[37m\u001b[0m \u001b[1m83s\u001b[0m 125ms/step - accuracy: 0.8666 - loss: 0.3683 - val_accuracy: 0.5530 - val_loss: 2.0375\n",
            "Epoch 34/50\n",
            "\u001b[1m481/481\u001b[0m \u001b[32m━━━━━━━━━━━━━━━━━━━━\u001b[0m\u001b[37m\u001b[0m \u001b[1m85s\u001b[0m 131ms/step - accuracy: 0.8755 - loss: 0.3390 - val_accuracy: 0.5468 - val_loss: 2.0901\n",
            "Epoch 35/50\n",
            "\u001b[1m481/481\u001b[0m \u001b[32m━━━━━━━━━━━━━━━━━━━━\u001b[0m\u001b[37m\u001b[0m \u001b[1m78s\u001b[0m 123ms/step - accuracy: 0.8662 - loss: 0.3436 - val_accuracy: 0.5525 - val_loss: 1.9405\n",
            "Epoch 36/50\n",
            "\u001b[1m481/481\u001b[0m \u001b[32m━━━━━━━━━━━━━━━━━━━━\u001b[0m\u001b[37m\u001b[0m \u001b[1m85s\u001b[0m 130ms/step - accuracy: 0.8727 - loss: 0.3324 - val_accuracy: 0.5525 - val_loss: 2.1046\n",
            "Epoch 37/50\n",
            "\u001b[1m481/481\u001b[0m \u001b[32m━━━━━━━━━━━━━━━━━━━━\u001b[0m\u001b[37m\u001b[0m \u001b[1m85s\u001b[0m 136ms/step - accuracy: 0.8744 - loss: 0.3162 - val_accuracy: 0.5509 - val_loss: 2.4208\n",
            "Epoch 38/50\n",
            "\u001b[1m481/481\u001b[0m \u001b[32m━━━━━━━━━━━━━━━━━━━━\u001b[0m\u001b[37m\u001b[0m \u001b[1m99s\u001b[0m 171ms/step - accuracy: 0.8730 - loss: 0.3166 - val_accuracy: 0.5463 - val_loss: 2.2983\n",
            "Epoch 39/50\n",
            "\u001b[1m481/481\u001b[0m \u001b[32m━━━━━━━━━━━━━━━━━━━━\u001b[0m\u001b[37m\u001b[0m \u001b[1m119s\u001b[0m 124ms/step - accuracy: 0.8891 - loss: 0.2967 - val_accuracy: 0.5473 - val_loss: 2.4907\n",
            "Epoch 40/50\n",
            "\u001b[1m481/481\u001b[0m \u001b[32m━━━━━━━━━━━━━━━━━━━━\u001b[0m\u001b[37m\u001b[0m \u001b[1m81s\u001b[0m 123ms/step - accuracy: 0.8862 - loss: 0.3086 - val_accuracy: 0.5478 - val_loss: 2.1731\n",
            "Epoch 41/50\n",
            "\u001b[1m481/481\u001b[0m \u001b[32m━━━━━━━━━━━━━━━━━━━━\u001b[0m\u001b[37m\u001b[0m \u001b[1m60s\u001b[0m 124ms/step - accuracy: 0.8829 - loss: 0.2896 - val_accuracy: 0.5442 - val_loss: 2.3543\n",
            "Epoch 42/50\n",
            "\u001b[1m481/481\u001b[0m \u001b[32m━━━━━━━━━━━━━━━━━━━━\u001b[0m\u001b[37m\u001b[0m \u001b[1m82s\u001b[0m 126ms/step - accuracy: 0.8840 - loss: 0.3009 - val_accuracy: 0.5473 - val_loss: 2.4737\n",
            "Epoch 43/50\n",
            "\u001b[1m481/481\u001b[0m \u001b[32m━━━━━━━━━━━━━━━━━━━━\u001b[0m\u001b[37m\u001b[0m \u001b[1m60s\u001b[0m 125ms/step - accuracy: 0.8847 - loss: 0.3097 - val_accuracy: 0.5374 - val_loss: 2.4912\n",
            "Epoch 44/50\n",
            "\u001b[1m481/481\u001b[0m \u001b[32m━━━━━━━━━━━━━━━━━━━━\u001b[0m\u001b[37m\u001b[0m \u001b[1m81s\u001b[0m 123ms/step - accuracy: 0.8917 - loss: 0.2939 - val_accuracy: 0.5489 - val_loss: 2.6407\n",
            "Epoch 45/50\n",
            "\u001b[1m481/481\u001b[0m \u001b[32m━━━━━━━━━━━━━━━━━━━━\u001b[0m\u001b[37m\u001b[0m \u001b[1m60s\u001b[0m 124ms/step - accuracy: 0.8926 - loss: 0.2838 - val_accuracy: 0.5437 - val_loss: 2.3675\n",
            "Epoch 46/50\n",
            "\u001b[1m481/481\u001b[0m \u001b[32m━━━━━━━━━━━━━━━━━━━━\u001b[0m\u001b[37m\u001b[0m \u001b[1m81s\u001b[0m 123ms/step - accuracy: 0.8944 - loss: 0.2997 - val_accuracy: 0.5561 - val_loss: 2.1774\n",
            "Epoch 47/50\n",
            "\u001b[1m481/481\u001b[0m \u001b[32m━━━━━━━━━━━━━━━━━━━━\u001b[0m\u001b[37m\u001b[0m \u001b[1m83s\u001b[0m 124ms/step - accuracy: 0.9035 - loss: 0.2654 - val_accuracy: 0.5546 - val_loss: 2.4339\n",
            "Epoch 48/50\n",
            "\u001b[1m481/481\u001b[0m \u001b[32m━━━━━━━━━━━━━━━━━━━━\u001b[0m\u001b[37m\u001b[0m \u001b[1m81s\u001b[0m 123ms/step - accuracy: 0.8982 - loss: 0.2707 - val_accuracy: 0.5567 - val_loss: 2.5813\n",
            "Epoch 49/50\n",
            "\u001b[1m481/481\u001b[0m \u001b[32m━━━━━━━━━━━━━━━━━━━━\u001b[0m\u001b[37m\u001b[0m \u001b[1m81s\u001b[0m 122ms/step - accuracy: 0.8892 - loss: 0.2896 - val_accuracy: 0.5411 - val_loss: 2.5480\n",
            "Epoch 50/50\n",
            "\u001b[1m481/481\u001b[0m \u001b[32m━━━━━━━━━━━━━━━━━━━━\u001b[0m\u001b[37m\u001b[0m \u001b[1m58s\u001b[0m 121ms/step - accuracy: 0.9071 - loss: 0.2425 - val_accuracy: 0.5520 - val_loss: 2.6288\n"
          ]
        }
      ],
      "source": [
        "# Train the model\n",
        "history = model.fit(X_train, y_train, epochs=50, batch_size=16, validation_data=(X_test, y_test))"
      ]
    },
    {
      "cell_type": "code",
      "execution_count": null,
      "metadata": {
        "id": "jNa6JX-yHJMx"
      },
      "outputs": [],
      "source": [
        "# model.compile(optimizer='adam', loss='categorical_crossentropy', metrics=['accuracy'])\n",
        "# history = model.fit(X_train, y_train, epochs=50, batch_size=64, validation_data=(X_test, y_test))"
      ]
    },
    {
      "cell_type": "code",
      "execution_count": null,
      "metadata": {
        "id": "I4busehxdi_l"
      },
      "outputs": [],
      "source": [
        "model.save(\"/content/drive/MyDrive/Data Audio/model.keras\")"
      ]
    },
    {
      "cell_type": "code",
      "source": [
        "imported_model = keras.models.load_model(\"/content/drive/MyDrive/Data Audio/model.keras\")"
      ],
      "metadata": {
        "id": "w4ysBFPnk53r"
      },
      "execution_count": null,
      "outputs": []
    },
    {
      "cell_type": "code",
      "source": [
        "loss, accuracy = imported_model.evaluate(X_test, y_test, batch_size=16)\n",
        "print(\"Test Loss:\", loss)\n",
        "print(\"Test Accuracy:\", accuracy)"
      ],
      "metadata": {
        "colab": {
          "base_uri": "https://localhost:8080/"
        },
        "id": "BJecdhk4tPCe",
        "outputId": "aff4abe5-cab2-4628-a7f5-5c9a517350c6"
      },
      "execution_count": null,
      "outputs": [
        {
          "output_type": "stream",
          "name": "stdout",
          "text": [
            "\u001b[1m121/121\u001b[0m \u001b[32m━━━━━━━━━━━━━━━━━━━━\u001b[0m\u001b[37m\u001b[0m \u001b[1m8s\u001b[0m 58ms/step - accuracy: 0.5340 - loss: 2.7140\n",
            "Test Loss: 2.6288135051727295\n",
            "Test Accuracy: 0.5519750714302063\n"
          ]
        }
      ]
    },
    {
      "cell_type": "code",
      "source": [
        "from sklearn.metrics import confusion_matrix, classification_report\n",
        "import seaborn as sns\n",
        "import matplotlib.pyplot as plt"
      ],
      "metadata": {
        "id": "f_btLZx5ujRz"
      },
      "execution_count": null,
      "outputs": []
    },
    {
      "cell_type": "code",
      "source": [
        "# Predict the labels for your test data\n",
        "predictions = imported_model.predict(X_test)\n",
        "\n",
        "# Convert the predicted probabilities to class labels\n",
        "predicted_labels = np.argmax(predictions, axis=1)\n",
        "\n",
        "# Convert the one-hot encoded test labels to class labels\n",
        "true_labels = np.argmax(y_test, axis=1)"
      ],
      "metadata": {
        "colab": {
          "base_uri": "https://localhost:8080/"
        },
        "id": "V9BZCd0zujso",
        "outputId": "2ba49c7d-a40f-41b9-8dc4-f28d5fa4054b"
      },
      "execution_count": null,
      "outputs": [
        {
          "output_type": "stream",
          "name": "stdout",
          "text": [
            "\u001b[1m61/61\u001b[0m \u001b[32m━━━━━━━━━━━━━━━━━━━━\u001b[0m\u001b[37m\u001b[0m \u001b[1m7s\u001b[0m 112ms/step\n"
          ]
        }
      ]
    },
    {
      "cell_type": "code",
      "source": [
        "conf_matrix = confusion_matrix(true_labels, predicted_labels)\n",
        "\n",
        "# Print classification report for detailed metrics\n",
        "print(classification_report(true_labels, predicted_labels))\n",
        "\n",
        "# Plot the confusion matrix\n",
        "plt.figure(figsize=(10, 7))\n",
        "sns.heatmap(conf_matrix, annot=True, fmt='d', cmap='Blues')\n",
        "plt.xlabel('Predicted Labels')\n",
        "plt.ylabel('True Labels')\n",
        "plt.title('Confusion Matrix')\n",
        "plt.show()"
      ],
      "metadata": {
        "colab": {
          "base_uri": "https://localhost:8080/",
          "height": 849
        },
        "id": "YoSGMXe_uuZD",
        "outputId": "3a34989e-805a-4e14-b112-f45aa415c603"
      },
      "execution_count": null,
      "outputs": [
        {
          "output_type": "stream",
          "name": "stdout",
          "text": [
            "              precision    recall  f1-score   support\n",
            "\n",
            "           0       0.70      0.67      0.68       393\n",
            "           1       0.45      0.50      0.47       360\n",
            "           2       0.49      0.46      0.47       377\n",
            "           3       0.50      0.51      0.50       372\n",
            "           4       0.62      0.60      0.61       422\n",
            "\n",
            "    accuracy                           0.55      1924\n",
            "   macro avg       0.55      0.55      0.55      1924\n",
            "weighted avg       0.55      0.55      0.55      1924\n",
            "\n"
          ]
        },
        {
          "output_type": "display_data",
          "data": {
            "text/plain": [
              "<Figure size 1000x700 with 2 Axes>"
            ],
            "image/png": "[encoded data removed]"
          },
          "metadata": {}
        }
      ]
    },
    {
      "cell_type": "code",
      "source": [],
      "metadata": {
        "id": "nlH1-tCXvXlX"
      },
      "execution_count": null,
      "outputs": []
    }
  ],
  "metadata": {
    "colab": {
      "provenance": [],
      "gpuType": "T4"
    },
    "kernelspec": {
      "display_name": "Python 3",
      "name": "python3"
    },
    "language_info": {
      "name": "python"
    },
    "accelerator": "GPU"
  },
  "nbformat": 4,
  "nbformat_minor": 0
}